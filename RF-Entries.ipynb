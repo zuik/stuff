{
 "cells": [
  {
   "cell_type": "code",
   "execution_count": 1,
   "metadata": {
    "collapsed": true,
    "deletable": true,
    "editable": true
   },
   "outputs": [],
   "source": [
    "from pymongo import MongoClient\n",
    "from tqdm import tqdm"
   ]
  },
  {
   "cell_type": "code",
   "execution_count": 2,
   "metadata": {
    "collapsed": true,
    "deletable": true,
    "editable": true
   },
   "outputs": [],
   "source": [
    "client = MongoClient()\n",
    "db = client['rf_test']\n",
    "col_entries = db['entries']\n",
    "col_inst = db['inst']\n",
    "col_inds = db['inds']\n",
    "col_nouns = db['nouns']"
   ]
  },
  {
   "cell_type": "markdown",
   "metadata": {
    "deletable": true,
    "editable": true
   },
   "source": [
    "## First look at entries"
   ]
  },
  {
   "cell_type": "markdown",
   "metadata": {
    "deletable": true,
    "editable": true
   },
   "source": [
    "### What are those?"
   ]
  },
  {
   "cell_type": "code",
   "execution_count": 3,
   "metadata": {
    "collapsed": true,
    "deletable": true,
    "editable": true
   },
   "outputs": [],
   "source": [
    "def list_entries():\n",
    "    d = col_entries.distinct(\"type\")\n",
    "    return [x for x in d]"
   ]
  },
  {
   "cell_type": "markdown",
   "metadata": {
    "deletable": true,
    "editable": true
   },
   "source": [
    "### What do we have the most?"
   ]
  },
  {
   "cell_type": "code",
   "execution_count": 8,
   "metadata": {
    "collapsed": true,
    "deletable": true,
    "editable": true
   },
   "outputs": [],
   "source": [
    "entries = Out[4]"
   ]
  },
  {
   "cell_type": "code",
   "execution_count": 12,
   "metadata": {
    "collapsed": false,
    "deletable": true,
    "editable": true
   },
   "outputs": [],
   "source": [
    "def count_entry():\n",
    "    entry_count = []\n",
    "    for entry in entries:\n",
    "        c = col_entries.find({\"type\":entry}).count()\n",
    "        print(\"{}|{}\".format(c,entry))\n",
    "        entry_count.append((c,entry))\n",
    "    return entry_count"
   ]
  },
  {
   "cell_type": "code",
   "execution_count": 14,
   "metadata": {
    "collapsed": true,
    "deletable": true,
    "editable": true
   },
   "outputs": [],
   "source": [
    "entry_count = Out[13]"
   ]
  },
  {
   "cell_type": "code",
   "execution_count": 17,
   "metadata": {
    "collapsed": false,
    "deletable": true,
    "editable": true
   },
   "outputs": [
    {
     "data": {
      "text/plain": [
       "[(177928, 'URL'),\n",
       " (52303, 'Username'),\n",
       " (11210, 'InternetDomainName'),\n",
       " (7060, 'Source'),\n",
       " (4916, 'GeoEntity'),\n",
       " (4661, 'Hashtag'),\n",
       " (4238, 'Company'),\n",
       " (3700, 'Person'),\n",
       " (3307, 'OrgEntity'),\n",
       " (2704, 'City'),\n",
       " (2616, 'Malware'),\n",
       " (2196, 'IndustryTerm'),\n",
       " (2049, 'ProvinceOrState'),\n",
       " (1917, 'Organization'),\n",
       " (1384, 'Product'),\n",
       " (923, 'Technology'),\n",
       " (861, 'IpAddress'),\n",
       " (680, 'Position'),\n",
       " (452, 'Facility'),\n",
       " (335, 'MalwareSignature'),\n",
       " (332, 'FileName'),\n",
       " (210, 'Country'),\n",
       " (207, 'Region'),\n",
       " (126, 'PublishedMedium'),\n",
       " (125, 'Hash'),\n",
       " (123, 'EmailAddress'),\n",
       " (97, 'CyberVulnerability'),\n",
       " (66, 'Industry'),\n",
       " (48, 'MetaType'),\n",
       " (43, 'NaturalFeature'),\n",
       " (42, 'AttackVector'),\n",
       " (29, 'Feature'),\n",
       " (28, 'Topic'),\n",
       " (25, 'OperatingSystem'),\n",
       " (23, 'Operation'),\n",
       " (22, 'TVShow'),\n",
       " (18, 'SourceMediaType'),\n",
       " (16, 'Religion'),\n",
       " (16, 'MedicalCondition'),\n",
       " (15, 'EntityList'),\n",
       " (15, 'MalwareCategory'),\n",
       " (15, 'WinRegKey'),\n",
       " (13, 'Holiday'),\n",
       " (12, 'Commodity'),\n",
       " (12, 'ProgrammingLanguage'),\n",
       " (9, 'MarketIndex'),\n",
       " (8, 'CyberExploitTargetCategory'),\n",
       " (8, 'Sector'),\n",
       " (7, 'Continent'),\n",
       " (6, 'ASNumber'),\n",
       " (2, 'IRCNetwork'),\n",
       " (2, 'MedicalTreatment'),\n",
       " (1, 'Anniversary'),\n",
       " (1, 'User'),\n",
       " (1, 'CyberThreatActorCategory'),\n",
       " (1, 'TechnologyArea')]"
      ]
     },
     "execution_count": 17,
     "metadata": {},
     "output_type": "execute_result"
    }
   ],
   "source": [
    "sorted(entry_count, key= lambda x: x[0])[::-1]"
   ]
  },
  {
   "cell_type": "markdown",
   "metadata": {
    "collapsed": true,
    "deletable": true,
    "editable": true
   },
   "source": [
    "In these sources of data, usernames seem interesting."
   ]
  },
  {
   "cell_type": "markdown",
   "metadata": {
    "deletable": true,
    "editable": true
   },
   "source": [
    "### Usernames"
   ]
  },
  {
   "cell_type": "markdown",
   "metadata": {
    "deletable": true,
    "editable": true
   },
   "source": [
    "First, we want to look through what are the usernames we have in the database. To find all usernames, we can do:"
   ]
  },
  {
   "cell_type": "code",
   "execution_count": 3,
   "metadata": {
    "collapsed": false,
    "deletable": true,
    "editable": true
   },
   "outputs": [],
   "source": [
    "def find_all_usernames():\n",
    "    return [x for x in col_entries.find({\"type\":\"Username\"})]"
   ]
  },
  {
   "cell_type": "markdown",
   "metadata": {
    "deletable": true,
    "editable": true
   },
   "source": [
    "Since there are about 50k usernames, let's just look at a random one:"
   ]
  },
  {
   "cell_type": "code",
   "execution_count": 4,
   "metadata": {
    "collapsed": false,
    "deletable": true,
    "editable": true,
    "scrolled": true
   },
   "outputs": [
    {
     "data": {
      "text/plain": [
       "{'_id': ObjectId('58d9f0e4df3e728bd7e112e7'),\n",
       " 'created': '2014-07-16T14:44:21.851Z',\n",
       " 'created_at': '2013-12-09T15:48:56.000Z',\n",
       " 'curated': 0,\n",
       " 'domain': 'B_E-R',\n",
       " 'hits': 40,\n",
       " 'id': 'LTRvjC',\n",
       " 'meta_type': 'type:Username',\n",
       " 'name': '@felicita_andrad',\n",
       " 'type': 'Username'}"
      ]
     },
     "execution_count": 4,
     "metadata": {},
     "output_type": "execute_result"
    }
   ],
   "source": [
    "find_all_usernames()[30]"
   ]
  },
  {
   "cell_type": "markdown",
   "metadata": {
    "deletable": true,
    "editable": true
   },
   "source": [
    "Note the 'id' field. Since this correspond to the author field in the instance, we can use this to count the contributions of the username. Therefore, for each username, we can count or list all of the instance that they are associated with."
   ]
  },
  {
   "cell_type": "code",
   "execution_count": 5,
   "metadata": {
    "collapsed": true,
    "deletable": true,
    "editable": true
   },
   "outputs": [],
   "source": [
    "def find_inst_by_username(userid):\n",
    "    return [x for x in col_inst.find({\"attributes.authors\": userid})]"
   ]
  },
  {
   "cell_type": "code",
   "execution_count": 6,
   "metadata": {
    "collapsed": false,
    "deletable": true,
    "editable": true
   },
   "outputs": [
    {
     "data": {
      "text/plain": [
       "[{'_id': ObjectId('58d9f0b6df3e728bd7de539f'),\n",
       "  'attributes': {'analyzed': '2015-09-21T17:29:21.094Z',\n",
       "   'authors': ['LTRvjC'],\n",
       "   'binning_id': 'GoX8I15DMMc',\n",
       "   'canonic_id': 'GoX8I15DMMc',\n",
       "   'document_external_id': '646013299067228160',\n",
       "   'document_offset': 0,\n",
       "   'document_url': 'url:https://twitter.com/felicita_andrad/statuses/646013299067228160',\n",
       "   'entities': ['url:http://www.20minutos.es/noticia/2561290/0/app-store-apple/victima-ciberataque-wechat/xcodeghost/',\n",
       "    'JDYK14',\n",
       "    'B_LyO',\n",
       "    'O8A5tj'],\n",
       "   'fragment_count': 1,\n",
       "   'function': 'id',\n",
       "   'general_negative': 0.0,\n",
       "   'general_positive': 0.0,\n",
       "   'indicator': 'ciberataque',\n",
       "   'meta_type': 'type:CyberAttack',\n",
       "   'negative': 0.0,\n",
       "   'positive': 0.0,\n",
       "   'sentiments': {'activism': 0.0,\n",
       "    'general_negative': 0.0,\n",
       "    'general_positive': 0.0,\n",
       "    'negative': 0.0,\n",
       "    'positive': 0.0,\n",
       "    'violence': 0.0},\n",
       "   'target': ['JDYK14'],\n",
       "   'target_string': 'EFE Un',\n",
       "   'topics': ['KPzZAE'],\n",
       "   'user_data': {'followers_count': 39,\n",
       "    'friends_count': 36,\n",
       "    'statuses_count': 1375},\n",
       "   'violence': 0.0},\n",
       "  'cluster_id': 'BG-xCBk6KSk',\n",
       "  'cluster_ids': ['BG-xCBk6KSk'],\n",
       "  'document': {'downloaded': '2015-09-21T17:29:20.602Z',\n",
       "   'id': 'O9QHDL',\n",
       "   'indexed': '2015-09-21T17:29:21.272Z',\n",
       "   'language': 'spa',\n",
       "   'published': '2015-09-21T17:29:07.000Z',\n",
       "   'sourceId': {'country': 'United States',\n",
       "    'description': 'Twitter',\n",
       "    'id': 'BV5',\n",
       "    'media_type': 'JxSEtC',\n",
       "    'name': 'Twitter'},\n",
       "   'title': 'App Store de Apple sufre su primer gran ciberataque: EFE Un software infectado, denominado XcodeGhost, ha afec... http://t.co/RBN25ohpqC',\n",
       "   'url': 'https://twitter.com/felicita_andrad/statuses/646013299067228160'},\n",
       "  'fragment': 'App Store de Apple sufre su primer gran ciberataque: EFE Un software infectado, denominado XcodeGhost, ha afec... http://t.co/RBN25ohpqC.',\n",
       "  'id': 'GVwn7jAnIpd',\n",
       "  'item_fragment': 'ciberataque: EFE Un',\n",
       "  'precision': 'ms',\n",
       "  'start': '2015-09-21T17:29:07.000Z',\n",
       "  'stop': '2015-09-21T17:29:07.000Z',\n",
       "  'tagged_fragment': 'App Store de <e id=B_LyO>Apple</e> sufre su primer gran <i id=GVwn7jAnIpd>ciberataque: <e id=JDYK14>EFE Un</e></i> software infectado, denominado <e id=O8A5tj>XcodeGhost</e>, ha afec... <e id=url:http://www.20minutos.es/noticia/2561290/0/app-store-apple/victima-ciberataque-wechat/xcodeghost/>http://t.co/RBN25ohpqC</e>.',\n",
       "  'time_type': 'in',\n",
       "  'type': 'CyberAttack'}]"
      ]
     },
     "execution_count": 6,
     "metadata": {},
     "output_type": "execute_result"
    }
   ],
   "source": [
    "find_inst_by_username(\"LTRvjC\")"
   ]
  },
  {
   "cell_type": "markdown",
   "metadata": {
    "deletable": true,
    "editable": true
   },
   "source": [
    "We could also go through the data and see which username \"have the most to say\". "
   ]
  },
  {
   "cell_type": "code",
   "execution_count": 7,
   "metadata": {
    "collapsed": true,
    "deletable": true,
    "editable": true
   },
   "outputs": [],
   "source": [
    "def username_ranking():\n",
    "    usernames_ranks = []\n",
    "    usernames = find_all_usernames()[:100]\n",
    "    for u in tqdm(usernames):\n",
    "        uid = u['id']\n",
    "        name = u['name']\n",
    "        count = col_inst.find({\"attributes.authors\":uid}).count()\n",
    "        usernames_ranks.append((uid, name, count))\n",
    "    return sorted(usernames_ranks, key=lambda x: x[2])"
   ]
  },
  {
   "cell_type": "markdown",
   "metadata": {
    "deletable": true,
    "editable": true
   },
   "source": [
    "On my computer, this process would take around **5 hours** to go through the complete dataset and count up all the usernames, we got about 3 username per seconds. So I only did about the first 100 usernames"
   ]
  },
  {
   "cell_type": "code",
   "execution_count": 8,
   "metadata": {
    "collapsed": false,
    "deletable": true,
    "editable": true,
    "scrolled": true
   },
   "outputs": [
    {
     "name": "stderr",
     "output_type": "stream",
     "text": [
      "100%|██████████| 100/100 [00:33<00:00,  3.03it/s]\n"
     ]
    }
   ],
   "source": [
    "u_ranks = username_ranking()"
   ]
  },
  {
   "cell_type": "markdown",
   "metadata": {},
   "source": [
    "For example, in this small subset, the user with the most instance connected to, is"
   ]
  },
  {
   "cell_type": "code",
   "execution_count": 11,
   "metadata": {
    "collapsed": false,
    "deletable": true,
    "editable": true
   },
   "outputs": [
    {
     "data": {
      "text/plain": [
       "('KKYGPH', '@CKLeetwt', 18)"
      ]
     },
     "execution_count": 11,
     "metadata": {},
     "output_type": "execute_result"
    }
   ],
   "source": [
    "u_ranks[-1]"
   ]
  },
  {
   "cell_type": "code",
   "execution_count": 12,
   "metadata": {
    "collapsed": true,
    "deletable": true,
    "editable": true
   },
   "outputs": [],
   "source": [
    "def get_inst_for_user(uid):\n",
    "    return [x for x in col_inst.find({\"attributes.authors\":uid})]"
   ]
  },
  {
   "cell_type": "markdown",
   "metadata": {},
   "source": [
    "#### What does this user talks about?"
   ]
  },
  {
   "cell_type": "code",
   "execution_count": 15,
   "metadata": {
    "collapsed": false
   },
   "outputs": [
    {
     "data": {
      "text/plain": [
       "['Gameover Zeus',\n",
       " 'SYNful Knock',\n",
       " 'malware',\n",
       " 'Superfish',\n",
       " 'Carberp',\n",
       " 'Moose malware may infect Linux - based routers',\n",
       " 'Duqu2',\n",
       " 'malware',\n",
       " 'SpyEye',\n",
       " 'Dyreza',\n",
       " 'Dridex Botnet',\n",
       " 'Dridex',\n",
       " 'Thunderstrike',\n",
       " 'RIG exploit kit infects 1 million PCs',\n",
       " 'Stuxnet',\n",
       " 'Potao malware used to spy on targets in Ukraine, Russia',\n",
       " 'TorrentLocker',\n",
       " 'Trojan']"
      ]
     },
     "execution_count": 15,
     "metadata": {},
     "output_type": "execute_result"
    }
   ],
   "source": [
    "[x['attributes']['indicator'] for x in get_inst_for_user('KKYGPH')]"
   ]
  },
  {
   "cell_type": "code",
   "execution_count": null,
   "metadata": {
    "collapsed": true
   },
   "outputs": [],
   "source": []
  }
 ],
 "metadata": {
  "kernelspec": {
   "display_name": "Python 3",
   "language": "python",
   "name": "python3"
  },
  "language_info": {
   "codemirror_mode": {
    "name": "ipython",
    "version": 3
   },
   "file_extension": ".py",
   "mimetype": "text/x-python",
   "name": "python",
   "nbconvert_exporter": "python",
   "pygments_lexer": "ipython3",
   "version": "3.6.0"
  }
 },
 "nbformat": 4,
 "nbformat_minor": 2
}
