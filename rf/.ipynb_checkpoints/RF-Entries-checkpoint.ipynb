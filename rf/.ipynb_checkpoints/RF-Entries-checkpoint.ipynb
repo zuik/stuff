{
 "cells": [
  {
   "cell_type": "code",
   "execution_count": 1,
   "metadata": {
    "collapsed": true,
    "deletable": true,
    "editable": true
   },
   "outputs": [],
   "source": [
    "from pymongo import MongoClient\n",
    "from tqdm import tqdm"
   ]
  },
  {
   "cell_type": "code",
   "execution_count": 2,
   "metadata": {
    "collapsed": true,
    "deletable": true,
    "editable": true
   },
   "outputs": [],
   "source": [
    "client = MongoClient()\n",
    "db = client['rf_test']\n",
    "col_entries = db['entries']\n",
    "col_inst = db['inst']\n",
    "col_inds = db['inds']\n",
    "col_nouns = db['nouns']"
   ]
  },
  {
   "cell_type": "markdown",
   "metadata": {
    "deletable": true,
    "editable": true
   },
   "source": [
    "## First look at entries"
   ]
  },
  {
   "cell_type": "markdown",
   "metadata": {
    "deletable": true,
    "editable": true
   },
   "source": [
    "### What are those?"
   ]
  },
  {
   "cell_type": "code",
   "execution_count": 3,
   "metadata": {
    "collapsed": true,
    "deletable": true,
    "editable": true
   },
   "outputs": [],
   "source": [
    "def list_entries():\n",
    "    d = col_entries.distinct(\"type\")\n",
    "    return [x for x in d]"
   ]
  },
  {
   "cell_type": "markdown",
   "metadata": {
    "deletable": true,
    "editable": true
   },
   "source": [
    "### What do we have the most?"
   ]
  },
  {
   "cell_type": "code",
   "execution_count": 8,
   "metadata": {
    "collapsed": true,
    "deletable": true,
    "editable": true
   },
   "outputs": [],
   "source": [
    "entries = Out[4]"
   ]
  },
  {
   "cell_type": "code",
   "execution_count": 12,
   "metadata": {
    "collapsed": false,
    "deletable": true,
    "editable": true
   },
   "outputs": [],
   "source": [
    "def count_entry():\n",
    "    entry_count = []\n",
    "    for entry in entries:\n",
    "        c = col_entries.find({\"type\":entry}).count()\n",
    "        print(\"{}|{}\".format(c,entry))\n",
    "        entry_count.append((c,entry))\n",
    "    return entry_count"
   ]
  },
  {
   "cell_type": "code",
   "execution_count": 14,
   "metadata": {
    "collapsed": true,
    "deletable": true,
    "editable": true
   },
   "outputs": [],
   "source": [
    "entry_count = Out[13]"
   ]
  },
  {
   "cell_type": "code",
   "execution_count": 17,
   "metadata": {
    "collapsed": false,
    "deletable": true,
    "editable": true
   },
   "outputs": [
    {
     "data": {
      "text/plain": [
       "[(177928, 'URL'),\n",
       " (52303, 'Username'),\n",
       " (11210, 'InternetDomainName'),\n",
       " (7060, 'Source'),\n",
       " (4916, 'GeoEntity'),\n",
       " (4661, 'Hashtag'),\n",
       " (4238, 'Company'),\n",
       " (3700, 'Person'),\n",
       " (3307, 'OrgEntity'),\n",
       " (2704, 'City'),\n",
       " (2616, 'Malware'),\n",
       " (2196, 'IndustryTerm'),\n",
       " (2049, 'ProvinceOrState'),\n",
       " (1917, 'Organization'),\n",
       " (1384, 'Product'),\n",
       " (923, 'Technology'),\n",
       " (861, 'IpAddress'),\n",
       " (680, 'Position'),\n",
       " (452, 'Facility'),\n",
       " (335, 'MalwareSignature'),\n",
       " (332, 'FileName'),\n",
       " (210, 'Country'),\n",
       " (207, 'Region'),\n",
       " (126, 'PublishedMedium'),\n",
       " (125, 'Hash'),\n",
       " (123, 'EmailAddress'),\n",
       " (97, 'CyberVulnerability'),\n",
       " (66, 'Industry'),\n",
       " (48, 'MetaType'),\n",
       " (43, 'NaturalFeature'),\n",
       " (42, 'AttackVector'),\n",
       " (29, 'Feature'),\n",
       " (28, 'Topic'),\n",
       " (25, 'OperatingSystem'),\n",
       " (23, 'Operation'),\n",
       " (22, 'TVShow'),\n",
       " (18, 'SourceMediaType'),\n",
       " (16, 'Religion'),\n",
       " (16, 'MedicalCondition'),\n",
       " (15, 'EntityList'),\n",
       " (15, 'MalwareCategory'),\n",
       " (15, 'WinRegKey'),\n",
       " (13, 'Holiday'),\n",
       " (12, 'Commodity'),\n",
       " (12, 'ProgrammingLanguage'),\n",
       " (9, 'MarketIndex'),\n",
       " (8, 'CyberExploitTargetCategory'),\n",
       " (8, 'Sector'),\n",
       " (7, 'Continent'),\n",
       " (6, 'ASNumber'),\n",
       " (2, 'IRCNetwork'),\n",
       " (2, 'MedicalTreatment'),\n",
       " (1, 'Anniversary'),\n",
       " (1, 'User'),\n",
       " (1, 'CyberThreatActorCategory'),\n",
       " (1, 'TechnologyArea')]"
      ]
     },
     "execution_count": 17,
     "metadata": {},
     "output_type": "execute_result"
    }
   ],
   "source": [
    "sorted(entry_count, key= lambda x: x[0])[::-1]"
   ]
  },
  {
   "cell_type": "markdown",
   "metadata": {
    "collapsed": true,
    "deletable": true,
    "editable": true
   },
   "source": [
    "In these sources of data, usernames seem interesting."
   ]
  },
  {
   "cell_type": "markdown",
   "metadata": {
    "deletable": true,
    "editable": true
   },
   "source": [
    "### Usernames"
   ]
  },
  {
   "cell_type": "markdown",
   "metadata": {
    "deletable": true,
    "editable": true
   },
   "source": [
    "First, we want to look through what are the usernames we have in the database. To find all usernames, we can do:"
   ]
  },
  {
   "cell_type": "code",
   "execution_count": 3,
   "metadata": {
    "collapsed": false,
    "deletable": true,
    "editable": true
   },
   "outputs": [],
   "source": [
    "def find_all_usernames():\n",
    "    return [x for x in col_entries.find({\"type\":\"Username\"})]"
   ]
  },
  {
   "cell_type": "markdown",
   "metadata": {
    "deletable": true,
    "editable": true
   },
   "source": [
    "Since there are about 50k usernames, let's just look at a random one:"
   ]
  },
  {
   "cell_type": "code",
   "execution_count": 4,
   "metadata": {
    "collapsed": false,
    "deletable": true,
    "editable": true,
    "scrolled": true
   },
   "outputs": [
    {
     "data": {
      "text/plain": [
       "{'_id': ObjectId('58d9f0e4df3e728bd7e112e7'),\n",
       " 'created': '2014-07-16T14:44:21.851Z',\n",
       " 'created_at': '2013-12-09T15:48:56.000Z',\n",
       " 'curated': 0,\n",
       " 'domain': 'B_E-R',\n",
       " 'hits': 40,\n",
       " 'id': 'LTRvjC',\n",
       " 'meta_type': 'type:Username',\n",
       " 'name': '@felicita_andrad',\n",
       " 'type': 'Username'}"
      ]
     },
     "execution_count": 4,
     "metadata": {},
     "output_type": "execute_result"
    }
   ],
   "source": [
    "find_all_usernames()[30]"
   ]
  },
  {
   "cell_type": "markdown",
   "metadata": {
    "deletable": true,
    "editable": true
   },
   "source": [
    "Note the 'id' field. Since this correspond to the author field in the instance, we can use this to count the contributions of the username. Therefore, for each username, we can count or list all of the instance that they are associated with."
   ]
  },
  {
   "cell_type": "code",
   "execution_count": 5,
   "metadata": {
    "collapsed": true,
    "deletable": true,
    "editable": true
   },
   "outputs": [],
   "source": [
    "def find_inst_by_username(userid):\n",
    "    return [x for x in col_inst.find({\"attributes.authors\": userid})]"
   ]
  },
  {
   "cell_type": "code",
   "execution_count": 6,
   "metadata": {
    "collapsed": false,
    "deletable": true,
    "editable": true
   },
   "outputs": [
    {
     "data": {
      "text/plain": [
       "[{'_id': ObjectId('58d9f0b6df3e728bd7de539f'),\n",
       "  'attributes': {'analyzed': '2015-09-21T17:29:21.094Z',\n",
       "   'authors': ['LTRvjC'],\n",
       "   'binning_id': 'GoX8I15DMMc',\n",
       "   'canonic_id': 'GoX8I15DMMc',\n",
       "   'document_external_id': '646013299067228160',\n",
       "   'document_offset': 0,\n",
       "   'document_url': 'url:https://twitter.com/felicita_andrad/statuses/646013299067228160',\n",
       "   'entities': ['url:http://www.20minutos.es/noticia/2561290/0/app-store-apple/victima-ciberataque-wechat/xcodeghost/',\n",
       "    'JDYK14',\n",
       "    'B_LyO',\n",
       "    'O8A5tj'],\n",
       "   'fragment_count': 1,\n",
       "   'function': 'id',\n",
       "   'general_negative': 0.0,\n",
       "   'general_positive': 0.0,\n",
       "   'indicator': 'ciberataque',\n",
       "   'meta_type': 'type:CyberAttack',\n",
       "   'negative': 0.0,\n",
       "   'positive': 0.0,\n",
       "   'sentiments': {'activism': 0.0,\n",
       "    'general_negative': 0.0,\n",
       "    'general_positive': 0.0,\n",
       "    'negative': 0.0,\n",
       "    'positive': 0.0,\n",
       "    'violence': 0.0},\n",
       "   'target': ['JDYK14'],\n",
       "   'target_string': 'EFE Un',\n",
       "   'topics': ['KPzZAE'],\n",
       "   'user_data': {'followers_count': 39,\n",
       "    'friends_count': 36,\n",
       "    'statuses_count': 1375},\n",
       "   'violence': 0.0},\n",
       "  'cluster_id': 'BG-xCBk6KSk',\n",
       "  'cluster_ids': ['BG-xCBk6KSk'],\n",
       "  'document': {'downloaded': '2015-09-21T17:29:20.602Z',\n",
       "   'id': 'O9QHDL',\n",
       "   'indexed': '2015-09-21T17:29:21.272Z',\n",
       "   'language': 'spa',\n",
       "   'published': '2015-09-21T17:29:07.000Z',\n",
       "   'sourceId': {'country': 'United States',\n",
       "    'description': 'Twitter',\n",
       "    'id': 'BV5',\n",
       "    'media_type': 'JxSEtC',\n",
       "    'name': 'Twitter'},\n",
       "   'title': 'App Store de Apple sufre su primer gran ciberataque: EFE Un software infectado, denominado XcodeGhost, ha afec... http://t.co/RBN25ohpqC',\n",
       "   'url': 'https://twitter.com/felicita_andrad/statuses/646013299067228160'},\n",
       "  'fragment': 'App Store de Apple sufre su primer gran ciberataque: EFE Un software infectado, denominado XcodeGhost, ha afec... http://t.co/RBN25ohpqC.',\n",
       "  'id': 'GVwn7jAnIpd',\n",
       "  'item_fragment': 'ciberataque: EFE Un',\n",
       "  'precision': 'ms',\n",
       "  'start': '2015-09-21T17:29:07.000Z',\n",
       "  'stop': '2015-09-21T17:29:07.000Z',\n",
       "  'tagged_fragment': 'App Store de <e id=B_LyO>Apple</e> sufre su primer gran <i id=GVwn7jAnIpd>ciberataque: <e id=JDYK14>EFE Un</e></i> software infectado, denominado <e id=O8A5tj>XcodeGhost</e>, ha afec... <e id=url:http://www.20minutos.es/noticia/2561290/0/app-store-apple/victima-ciberataque-wechat/xcodeghost/>http://t.co/RBN25ohpqC</e>.',\n",
       "  'time_type': 'in',\n",
       "  'type': 'CyberAttack'}]"
      ]
     },
     "execution_count": 6,
     "metadata": {},
     "output_type": "execute_result"
    }
   ],
   "source": [
    "find_inst_by_username(\"LTRvjC\")"
   ]
  },
  {
   "cell_type": "markdown",
   "metadata": {
    "deletable": true,
    "editable": true
   },
   "source": [
    "We could also go through the data and see which username \"have the most to say\". "
   ]
  },
  {
   "cell_type": "code",
   "execution_count": 7,
   "metadata": {
    "collapsed": true,
    "deletable": true,
    "editable": true
   },
   "outputs": [],
   "source": [
    "def username_ranking():\n",
    "    usernames_ranks = []\n",
    "    usernames = find_all_usernames()[:100]\n",
    "    for u in tqdm(usernames):\n",
    "        uid = u['id']\n",
    "        name = u['name']\n",
    "        count = col_inst.find({\"attributes.authors\":uid}).count()\n",
    "        usernames_ranks.append((uid, name, count))\n",
    "    return sorted(usernames_ranks, key=lambda x: x[2])"
   ]
  },
  {
   "cell_type": "markdown",
   "metadata": {
    "deletable": true,
    "editable": true
   },
   "source": [
    "On my computer, this process would take around **5 hours** to go through the complete dataset and count up all the usernames, we got about 3 username per seconds. So I only did about the first 100 usernames"
   ]
  },
  {
   "cell_type": "code",
   "execution_count": 8,
   "metadata": {
    "collapsed": false,
    "deletable": true,
    "editable": true,
    "scrolled": true
   },
   "outputs": [
    {
     "name": "stderr",
     "output_type": "stream",
     "text": [
      "100%|██████████| 100/100 [00:33<00:00,  3.03it/s]\n"
     ]
    }
   ],
   "source": [
    "u_ranks = username_ranking()"
   ]
  },
  {
   "cell_type": "markdown",
   "metadata": {},
   "source": [
    "For example, in this small subset, the user with the most instance connected to, is"
   ]
  },
  {
   "cell_type": "code",
   "execution_count": 11,
   "metadata": {
    "collapsed": false,
    "deletable": true,
    "editable": true
   },
   "outputs": [
    {
     "data": {
      "text/plain": [
       "('KKYGPH', '@CKLeetwt', 18)"
      ]
     },
     "execution_count": 11,
     "metadata": {},
     "output_type": "execute_result"
    }
   ],
   "source": [
    "u_ranks[-1]"
   ]
  },
  {
   "cell_type": "code",
   "execution_count": 12,
   "metadata": {
    "collapsed": true,
    "deletable": true,
    "editable": true
   },
   "outputs": [],
   "source": [
    "def get_inst_for_user(uid):\n",
    "    return [x for x in col_inst.find({\"attributes.authors\":uid})]"
   ]
  },
  {
   "cell_type": "markdown",
   "metadata": {},
   "source": [
    "#### What does this user talks about?"
   ]
  },
  {
   "cell_type": "code",
   "execution_count": 15,
   "metadata": {
    "collapsed": false
   },
   "outputs": [
    {
     "data": {
      "text/plain": [
       "['Gameover Zeus',\n",
       " 'SYNful Knock',\n",
       " 'malware',\n",
       " 'Superfish',\n",
       " 'Carberp',\n",
       " 'Moose malware may infect Linux - based routers',\n",
       " 'Duqu2',\n",
       " 'malware',\n",
       " 'SpyEye',\n",
       " 'Dyreza',\n",
       " 'Dridex Botnet',\n",
       " 'Dridex',\n",
       " 'Thunderstrike',\n",
       " 'RIG exploit kit infects 1 million PCs',\n",
       " 'Stuxnet',\n",
       " 'Potao malware used to spy on targets in Ukraine, Russia',\n",
       " 'TorrentLocker',\n",
       " 'Trojan']"
      ]
     },
     "execution_count": 15,
     "metadata": {},
     "output_type": "execute_result"
    }
   ],
   "source": [
    "[x['attributes']['indicator'] for x in get_inst_for_user('KKYGPH')]"
   ]
  },
  {
   "cell_type": "code",
   "execution_count": 16,
   "metadata": {
    "collapsed": true
   },
   "outputs": [],
   "source": [
    "from nltk.tag import pos_tag"
   ]
  },
  {
   "cell_type": "code",
   "execution_count": 17,
   "metadata": {
    "collapsed": true
   },
   "outputs": [],
   "source": [
    "def find_nouns(sentence):\n",
    "    words = sentence.split()\n",
    "    tagged = pos_tag(words)\n",
    "    return [w for w, t in tagged if t == 'NNP']"
   ]
  },
  {
   "cell_type": "markdown",
   "metadata": {},
   "source": [
    "Here, we will look at everything the user has said, and count all the proper nouns."
   ]
  },
  {
   "cell_type": "code",
   "execution_count": 22,
   "metadata": {
    "collapsed": true
   },
   "outputs": [],
   "source": [
    "def words_from_user(uid):\n",
    "    insts = get_inst_for_user('KKYGPH')\n",
    "    sentences = [x['fragment'] for x in insts]\n",
    "    words = {}\n",
    "    for s in sentences:\n",
    "        ns = find_nouns(s)\n",
    "        for n in ns:\n",
    "            try:\n",
    "                words[n] += 1\n",
    "            except KeyError:\n",
    "                words[n] = 1\n",
    "    return words"
   ]
  },
  {
   "cell_type": "code",
   "execution_count": 26,
   "metadata": {
    "collapsed": false
   },
   "outputs": [
    {
     "data": {
      "text/plain": [
       "[('Dridex', 3),\n",
       " ('|', 3),\n",
       " ('Carberp', 2),\n",
       " ('Cisco', 2),\n",
       " ('RT', 2),\n",
       " ('Zeus', 2),\n",
       " ('Rt', 2),\n",
       " ('#ja….', 1),\n",
       " ('#malware', 1),\n",
       " ('#cybercrime', 1),\n",
       " ('Shifu:', 1),\n",
       " ('@icyberfighter:', 1),\n",
       " ('#ransomware', 1),\n",
       " ('#TorrentLocker', 1),\n",
       " ('Zealand)', 1),\n",
       " ('ANZ', 1),\n",
       " ('Russia', 1),\n",
       " ('Ukraine,', 1),\n",
       " ('Potao', 1),\n",
       " ('Korea', 1),\n",
       " ('North', 1),\n",
       " ('United', 1),\n",
       " ('Stuxnet', 1),\n",
       " ('ICYMI:', 1),\n",
       " ('RIG', 1),\n",
       " ('Symantec', 1),\n",
       " ('VB', 1),\n",
       " ('Recent', 1),\n",
       " ('Czech', 1),\n",
       " ('Botnet', 1),\n",
       " ('Proofpoint', 1),\n",
       " ('Dyreza,', 1),\n",
       " ('SophosLabs:', 1),\n",
       " ('Europol', 1),\n",
       " ('SpyEye', 1),\n",
       " ('Aussies', 1),\n",
       " ('Cryptolocker', 1),\n",
       " ('Australia', 1),\n",
       " ('LAST:', 1),\n",
       " ('AT', 1),\n",
       " ('Foxconn', 1),\n",
       " ('Moose', 1),\n",
       " ('#Australia', 1),\n",
       " ('Hemisphere', 1),\n",
       " ('Southern', 1),\n",
       " ('Works', 1),\n",
       " ('Superfish', 1),\n",
       " (\"Lenovo's\", 1),\n",
       " (\"Knock'\", 1),\n",
       " ('@SCMagazineAU:', 1),\n",
       " ('Shadowserver', 1),\n",
       " ('Knock', 1),\n",
       " ('SYNful', 1),\n",
       " ('@regsecurity:', 1),\n",
       " ('Gameover', 1),\n",
       " ('Fbi', 1),\n",
       " ('@esecurityp:', 1)]"
      ]
     },
     "execution_count": 26,
     "metadata": {},
     "output_type": "execute_result"
    }
   ],
   "source": [
    "sorted(((a,b) for a,b in words_from_user('KKYGPH').items()), key=lambda x: x[1])[::-1]"
   ]
  },
  {
   "cell_type": "markdown",
   "metadata": {},
   "source": [
    "Uhmm, apparently, this user talks about Dridex more than other. This still needs a lot of improvement. One big improvement this approach can use is to categorize the noun. This will give us some context to what the user is talking about. "
   ]
  },
  {
   "cell_type": "markdown",
   "metadata": {},
   "source": [
    "Furthermore, we can compare the user and group them by what they are talking about. This come back to our instance database. For example, let's look at an our Dridex malware"
   ]
  },
  {
   "cell_type": "code",
   "execution_count": 46,
   "metadata": {
    "collapsed": false
   },
   "outputs": [],
   "source": [
    "def people_and_instance(indicator):\n",
    "    c = col_inst.find({\"attributes.indicator\": indicator})\n",
    "    c = [x for x in c]\n",
    "    authors = []\n",
    "    authors_info = {}\n",
    "    for entry in c:\n",
    "        try:\n",
    "            author = entry['attributes']['authors']\n",
    "        except KeyError:\n",
    "            author = None\n",
    "        authors.append(author)\n",
    "    for a in tqdm(authors):\n",
    "        if a:\n",
    "            en = col_entries.find_one({\"id\": a[0]})\n",
    "            authors_info[en['id']] = {\"name\": en['name']}\n",
    "    return authors_info"
   ]
  },
  {
   "cell_type": "code",
   "execution_count": 48,
   "metadata": {
    "collapsed": false
   },
   "outputs": [],
   "source": [
    "talks_of_dridex = Out[29]"
   ]
  },
  {
   "cell_type": "code",
   "execution_count": 32,
   "metadata": {
    "collapsed": false
   },
   "outputs": [
    {
     "data": {
      "text/plain": [
       "468"
      ]
     },
     "execution_count": 32,
     "metadata": {},
     "output_type": "execute_result"
    }
   ],
   "source": [
    "len(Out[29]) #There are 468 entries about Dridex, sweet !!"
   ]
  },
  {
   "cell_type": "code",
   "execution_count": 47,
   "metadata": {
    "collapsed": false
   },
   "outputs": [
    {
     "name": "stderr",
     "output_type": "stream",
     "text": [
      "100%|██████████| 468/468 [00:33<00:00, 19.11it/s]\n"
     ]
    },
    {
     "data": {
      "text/plain": [
       "{'K05qIa': {'name': '@NiightlyCat'},\n",
       " 'K17xcT': {'name': '@ScottiAlbertoG'},\n",
       " 'K5dKsC': {'name': '@submoodle'},\n",
       " 'K7x5By': {'name': '@quallimited'},\n",
       " 'K9J08m': {'name': '@jabolins'},\n",
       " 'K9eq1h': {'name': '@Avosec'},\n",
       " 'KF3KQS': {'name': '@JA25000'},\n",
       " 'KF8pTm': {'name': '@ximad'},\n",
       " 'KF9gR7': {'name': '@Seifreed'},\n",
       " 'KFK0xQ': {'name': '@bartblaze'},\n",
       " 'KFK57Q': {'name': '@AdamLangePL'},\n",
       " 'KFKXsd': {'name': '@UK_Tech_News'},\n",
       " 'KFKg5Z': {'name': '@InfosecNewsBot'},\n",
       " 'KFKmZP': {'name': '@Insecurestuff'},\n",
       " 'KFLYUo': {'name': '@SecurityNews'},\n",
       " 'KFMDfg': {'name': '@BrianHonan'},\n",
       " 'KFMJsp': {'name': '@MalwareMustDie'},\n",
       " 'KFMT7t': {'name': '@upgradeoptions'},\n",
       " 'KFMk-r': {'name': '@evanderburg'},\n",
       " 'KFNVB9': {'name': '@wopot'},\n",
       " 'KFO8a5': {'name': '@ciperovich'},\n",
       " 'KFPMax': {'name': '@ITDataSecurity'},\n",
       " 'KFPthV': {'name': '@Cephurs'},\n",
       " 'KFPuks': {'name': '@c_APT_ure'},\n",
       " 'KFQ5tn': {'name': '@ioerror'},\n",
       " 'KFQITr': {'name': '@Security_FAQs'},\n",
       " 'KFRzvY': {'name': '@lemoine_vincent'},\n",
       " 'KFSwQj': {'name': '@Tinolle'},\n",
       " 'KFTlyU': {'name': '@benkow_'},\n",
       " 'KFTq5q': {'name': '@HackerSpyNet'},\n",
       " 'KFTwwV': {'name': '@dlemckert'},\n",
       " 'KFUkY1': {'name': '@virusbtn'},\n",
       " 'KFVuR_': {'name': '@ChristiaanBeek'},\n",
       " 'KFWmx7': {'name': '@Cyber_War_News'},\n",
       " 'KFXuWH': {'name': '@sans_isc'},\n",
       " 'KFa0WF': {'name': '@EconomicMayhem'},\n",
       " 'KFaYH_': {'name': '@psautjeau'},\n",
       " 'KFcAYL': {'name': '@PhysicalDrive0'},\n",
       " 'KFcHXv': {'name': '@SoLatiK'},\n",
       " 'KFe6ox': {'name': '@Z9M9Z'},\n",
       " 'KFfDhi': {'name': '@crmunoz27'},\n",
       " 'KFfKlU': {'name': '@bhconsulting'},\n",
       " 'KFgSll': {'name': '@stopbadware'},\n",
       " 'KFjonn': {'name': '@c0d3xpl0it'},\n",
       " 'KFkNxG': {'name': '@malekal_morte'},\n",
       " 'KFkhH3': {'name': '@AlJnErAl'},\n",
       " 'KFneYb': {'name': '@websense'},\n",
       " 'KFrEmJ': {'name': '@EGeorgantas'},\n",
       " 'KFta3y': {'name': '@ianbeckett'},\n",
       " 'KFwaNl': {'name': '@cyberthrone_war'},\n",
       " 'KFxpUa': {'name': '@chernobyl1986'},\n",
       " 'KFydkJ': {'name': '@sidoyle'},\n",
       " 'KG5QOY': {'name': '@Techhelplistcom'},\n",
       " 'KG6CtV': {'name': '@BRIGHTZEED'},\n",
       " 'KG7O9Z': {'name': '@Vircom_Inc'},\n",
       " 'KGCZQM': {'name': '@Technol_news'},\n",
       " 'KGJqnS': {'name': '@BelchSpeak'},\n",
       " 'KGPRzE': {'name': '@christruncer'},\n",
       " 'KGQUws': {'name': '@MultiNetRo'},\n",
       " 'KGRhOC': {'name': '@ConradLongmore'},\n",
       " 'KGStfw': {'name': '@fknsec'},\n",
       " 'KGStkY': {'name': '@abhie'},\n",
       " 'KGTDhO': {'name': '@CliveJBN'},\n",
       " 'KGTZbT': {'name': '@Radarbot'},\n",
       " 'KGV8ur': {'name': '@mad_gav'},\n",
       " 'KGXpru': {'name': '@spyd3r'},\n",
       " 'KGfM2q': {'name': '@ajohn76'},\n",
       " 'KGhRZl': {'name': '@EnriquePernas'},\n",
       " 'KGjkRZ': {'name': '@JamesGoz'},\n",
       " 'KGqEOt': {'name': '@newsfeit'},\n",
       " 'KGqKtH': {'name': '@Radio_Powermix'},\n",
       " 'KGrvzE': {'name': '@m_spreitz'},\n",
       " 'KGum-e': {'name': '@twilleer'},\n",
       " 'KGy2Md': {'name': '@codinguy'},\n",
       " 'KHDUOq': {'name': '@simoncrosby'},\n",
       " 'KHFpAg': {'name': '@SCmagazineUK'},\n",
       " 'KH_l08': {'name': '@kjetildahlseng'},\n",
       " 'KHpMJm': {'name': '@aelsmartin'},\n",
       " 'KHz94M': {'name': '@chrisdoman'},\n",
       " 'KI5zNO': {'name': '@angelor'},\n",
       " 'KIPvac': {'name': '@0xAli'},\n",
       " 'KIXV5k': {'name': '@Paola_marketing'},\n",
       " 'KIc-j0': {'name': '@abhinavbom'},\n",
       " 'KIfKPD': {'name': '@jpalanco'},\n",
       " 'KJ3IUW': {'name': '@websenselabs'},\n",
       " 'KJH6g0': {'name': '@senadaruch'},\n",
       " 'KJMTBN': {'name': '@GJvManen'},\n",
       " 'KJMWUg': {'name': '@bluejay00'},\n",
       " 'KJMq-h': {'name': '@ArgentConsultin'},\n",
       " 'KJdSOm': {'name': '@joepie91'},\n",
       " 'KK9u6r': {'name': '@DoctorNoFI'},\n",
       " 'KKYGPH': {'name': '@CKLeetwt'},\n",
       " 'KKwlx6': {'name': '@siri_urz'},\n",
       " 'KLS_k5': {'name': '@Nightwolf42'},\n",
       " 'KMZZeO': {'name': '@creditcardslab'},\n",
       " 'KN-Hos': {'name': '@shellprompt'},\n",
       " 'KN7_Oy': {'name': '@briskinfosec'},\n",
       " 'KNXelC': {'name': '@NC3mobi'},\n",
       " 'KNYFs1': {'name': '@Mirakshin'},\n",
       " 'KNrshW': {'name': '@nanderoo'},\n",
       " 'KO2_rX': {'name': '@cremvn'},\n",
       " 'KOB1ni': {'name': '@DellSecurity'},\n",
       " 'KOV6s8': {'name': '@insecurechile'},\n",
       " 'KOdryw': {'name': '@korezian'},\n",
       " 'KPCgiG': {'name': '@_jussil_'},\n",
       " 'KPqkp8': {'name': '@CIGTR'},\n",
       " 'KQmw0h': {'name': '@acoutal'},\n",
       " 'KREFax': {'name': '@SteveNixonIP'},\n",
       " 'KTMICm': {'name': '@FelixEhlers'},\n",
       " 'KTuH6e': {'name': '@ProfWoodward'},\n",
       " 'KUFPkp': {'name': '@superstubbs'},\n",
       " 'KVmLAG': {'name': '@davehull'},\n",
       " 'KW4-8h': {'name': '@malwaregroup'},\n",
       " 'KW6Z9b': {'name': '@rodrigovigna'},\n",
       " 'KWyse8': {'name': '@HuEY_KhrySTAL'},\n",
       " 'KYedkq': {'name': '@SecurityForest'},\n",
       " 'KZ5vmj': {'name': '@colinmahns'},\n",
       " 'KZGTS0': {'name': '@Tears0fSky'},\n",
       " 'KZWq_0': {'name': 'Malekal_morte'},\n",
       " 'K_CeAA': {'name': '@fedelemantuano'},\n",
       " 'K_NzfV': {'name': '@Certego_IRT'},\n",
       " 'K_OQUI': {'name': '@m4jid_java'},\n",
       " 'K_ZdbG': {'name': '@felicsjp'},\n",
       " 'K_inrz': {'name': '@CDSMarine'},\n",
       " 'KaGV6E': {'name': '@joemj'},\n",
       " 'KaIIJS': {'name': '@1AmericanAirman'},\n",
       " 'KaOown': {'name': '@aki0816'},\n",
       " 'KggOTa': {'name': '@mariusbonde'},\n",
       " 'KjPMCE': {'name': '@CST2dot0'},\n",
       " 'Klw6TG': {'name': '@infosecexpert'},\n",
       " 'KmlaTc': {'name': '@rubendvasquez1'},\n",
       " 'KmqqmU': {'name': '@doometdotcom'},\n",
       " 'Kmsemp': {'name': '@douglasmun'},\n",
       " 'KqGstY': {'name': '@barryporridge'},\n",
       " 'KrYAAN': {'name': '@Ankit_319'},\n",
       " 'Ks31NA': {'name': 'ѠOOT'},\n",
       " 'KshWbZ': {'name': '@neterix'},\n",
       " 'Ksiu-p': {'name': '@Diwakar_Singh_'},\n",
       " 'Kt8kLz': {'name': '@datativeUK'},\n",
       " 'KvnIGb': {'name': '@GanetheGreat'},\n",
       " 'KzgSs2': {'name': '@KKuehneman'},\n",
       " 'L21S7Q': {'name': '@jburnsconsult'},\n",
       " 'L5P3-6': {'name': '@TomL01011011'},\n",
       " 'L7RFv2': {'name': '@vofnromania'},\n",
       " 'L8q8_Q': {'name': '@banana_gunso'},\n",
       " 'LBAcRH': {'name': '@IXCG_Limited'},\n",
       " 'LB_hZd': {'name': '@SeKuRiGo'},\n",
       " 'LBuFwT': {'name': '@SOWACOMPUTACION'},\n",
       " 'LDAnth': {'name': '@rhpco'},\n",
       " 'LDMcA4': {'name': '@makay_gras'},\n",
       " 'LEhQMR': {'name': '@Ptr32Void'},\n",
       " 'LF3cUu': {'name': '@kchr'},\n",
       " 'LG8qIf': {'name': '@thebhavin_v'},\n",
       " 'LIMAWR': {'name': '@PelsAndre'},\n",
       " 'LIo3n-': {'name': '@cisco_dp'},\n",
       " 'LJa85U': {'name': '@_MKSingh_'},\n",
       " 'LLyN5u': {'name': '@AnytimeEmail'},\n",
       " 'LOLu-E': {'name': '@Gate_15_Analyst'},\n",
       " 'LQ78Ki': {'name': '@jmariocadavid'},\n",
       " 'LUW9j-': {'name': '@buitreddesierto'},\n",
       " 'LVIvl5': {'name': '@5y5tem5'},\n",
       " 'LW0a_M': {'name': '@swsayman'},\n",
       " 'LW_GpT': {'name': '@_plesna'},\n",
       " 'Lb294Q': {'name': '@dmred1'},\n",
       " 'LeIHwR': {'name': '@JobSecUK'},\n",
       " 'LgvzsA': {'name': '@simon31216'},\n",
       " 'LjWGcy': {'name': '@Allsecu'},\n",
       " 'Lm5oQg': {'name': '@__Fermi__'},\n",
       " 'Lp-vwS': {'name': '@electricgherkin'},\n",
       " 'LsEum7': {'name': '@BodyGuardFrank'},\n",
       " 'LuZY8H': {'name': '@sam_wmonks'},\n",
       " 'LvI7X1': {'name': '@mr_jukai'},\n",
       " 'Lz5WSD': {'name': '@CasualSec'},\n",
       " 'MD6BOV': {'name': '@Bry_Campbell'},\n",
       " 'MFbgwS': {'name': '@thlnk3r'},\n",
       " 'MH2qDf': {'name': '@mangeshaaaa'},\n",
       " 'MHzSW9': {'name': '@loucif_kharouni'},\n",
       " 'MK1tiJ': {'name': '@gh0std4ncer'},\n",
       " 'MM0Gsg': {'name': '@Data88Geek'},\n",
       " 'MaevLP': {'name': '@Bulldog_Palm'},\n",
       " 'MhDamN': {'name': '@SteveRJ_Sans'},\n",
       " 'Mul-H9': {'name': '@MStingleyTX'},\n",
       " 'MyuT9a': {'name': '@caboddington'},\n",
       " 'MzJIVd': {'name': '@RobDoxPower'},\n",
       " 'N1huQ1': {'name': '@tony_cleal'},\n",
       " 'N4HI3c': {'name': '@YHVHvx'},\n",
       " 'NAxzoA': {'name': '@SecurityToday'},\n",
       " 'NDcy8w': {'name': '@ropchain'},\n",
       " 'NDvnNb': {'name': '@tuxedo_ha'},\n",
       " 'NInanW': {'name': '@sehque'},\n",
       " 'NJHBpw': {'name': '@Franwhitehat'},\n",
       " 'NNL5bV': {'name': '@JohnsonITUK'},\n",
       " 'NQnPAY': {'name': 'Consultores y Sistemas 4S, C.A.'},\n",
       " 'NQpf4G': {'name': '@CrackerHacker00'},\n",
       " 'NSZ0lc': {'name': '@HburgHackers'},\n",
       " 'NSyVEG': {'name': '@ErwinsAegis'},\n",
       " 'NUuRTR': {'name': '@ITG_updates'},\n",
       " 'NcdE1R': {'name': '@maldevel'},\n",
       " 'NdHXOy': {'name': '@infosec_blogs'},\n",
       " 'Ni1hrO': {'name': '@virus_tracker'},\n",
       " 'Nsst4i': {'name': '@Enterprise_ITS'},\n",
       " 'Nt0jwC': {'name': 'CeptBiro'},\n",
       " 'NtYNYi': {'name': '@kazyu56kt'},\n",
       " 'NwkLkX': {'name': '@CientiH'},\n",
       " 'NzE0NC': {'name': '@cyb3rops'},\n",
       " 'O35nCv': {'name': '@TerryBowdenNZ'},\n",
       " 'O3_eQb': {'name': '@4n0n_HR'},\n",
       " 'ODrruH': {'name': '@thisisdey'},\n",
       " 'OGINER': {'name': '@ronin3510'},\n",
       " 'OI-aoW': {'name': '裴诺'},\n",
       " 'OLfGwI': {'name': '@Protecdor'},\n",
       " 'OO2YX9': {'name': '@SFPwN'},\n",
       " 'OPMOdy': {'name': '@yuunaka18'},\n",
       " 'OPd3I8': {'name': '@FCSLinus'},\n",
       " 'OPq1Ff': {'name': '@cyberscTom'},\n",
       " 'OR1hMo': {'name': '@HoudiniOctopus'},\n",
       " 'OTS729': {'name': '@68756e6168'},\n",
       " 'OU3JNb': {'name': '@Socmedmanoxford'},\n",
       " 'OVSG7Q': {'name': '@_Gen2_'},\n",
       " 'OY0A6T': {'name': '@e92patrick'},\n",
       " 'OYzYWV': {'name': 'aggelon'},\n",
       " 'OZjM4B': {'name': '@PacketKangaroo'},\n",
       " 'Oawmjf': {'name': '@sezgin063443'},\n",
       " 'Oge6RM': {'name': '@NWFCyber'},\n",
       " 'OhsLWg': {'name': '@Dr_v0ly'},\n",
       " 'OhxST1': {'name': '@LohanOnSecurity'},\n",
       " 'OiItGt': {'name': '@CowboyNewsBot'},\n",
       " 'OlmPJF': {'name': '@SecureNewsru'}}"
      ]
     },
     "execution_count": 47,
     "metadata": {},
     "output_type": "execute_result"
    }
   ],
   "source": [
    "people_and_instance('Dridex')"
   ]
  },
  {
   "cell_type": "markdown",
   "metadata": {},
   "source": [
    "When we have a list of people who talks about an topic, we can iterate through the list of ID, find their sentences and count the noun in those. This way, we could see who are \"really interested\" in the topic."
   ]
  },
  {
   "cell_type": "markdown",
   "metadata": {},
   "source": [
    "A different way of looking at Usernames, especially Twitter username is to look through the relationship aspect. This means that take a twitter handle. We will also look at their following. We suspect that the twitter user would follows subject of importance to them. In this way, we will be able to see other account to put in our crawl list. Furthermore, we can look at a group of people and see if they all talk about the same topic. "
   ]
  },
  {
   "cell_type": "code",
   "execution_count": null,
   "metadata": {
    "collapsed": true
   },
   "outputs": [],
   "source": []
  }
 ],
 "metadata": {
  "kernelspec": {
   "display_name": "Python 3",
   "language": "python",
   "name": "python3"
  },
  "language_info": {
   "codemirror_mode": {
    "name": "ipython",
    "version": 3
   },
   "file_extension": ".py",
   "mimetype": "text/x-python",
   "name": "python",
   "nbconvert_exporter": "python",
   "pygments_lexer": "ipython3",
   "version": "3.6.0"
  }
 },
 "nbformat": 4,
 "nbformat_minor": 2
}
