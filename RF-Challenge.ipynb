{
 "cells": [
  {
   "cell_type": "code",
   "execution_count": 1,
   "metadata": {
    "collapsed": true,
    "deletable": true,
    "editable": true
   },
   "outputs": [],
   "source": [
    "import matplotlib\n",
    "import numpy as np\n",
    "import matplotlib.pyplot as plt\n",
    "import matplotlib.dates as mdates"
   ]
  },
  {
   "cell_type": "code",
   "execution_count": 2,
   "metadata": {
    "collapsed": true,
    "deletable": true,
    "editable": true
   },
   "outputs": [],
   "source": [
    "import seaborn"
   ]
  },
  {
   "cell_type": "code",
   "execution_count": 3,
   "metadata": {
    "collapsed": true,
    "deletable": true,
    "editable": true
   },
   "outputs": [],
   "source": [
    "import datetime\n",
    "from dateutil import parser"
   ]
  },
  {
   "cell_type": "code",
   "execution_count": 4,
   "metadata": {
    "collapsed": true,
    "deletable": true,
    "editable": true
   },
   "outputs": [],
   "source": [
    "from pymongo import MongoClient"
   ]
  },
  {
   "cell_type": "code",
   "execution_count": 61,
   "metadata": {
    "collapsed": true,
    "deletable": true,
    "editable": true
   },
   "outputs": [],
   "source": [
    "client = MongoClient()\n",
    "db = client['rf_test']\n",
    "col_entries = db['entries']\n",
    "col_inst = db['inst']\n",
    "col_inds = db['inds']\n",
    "col_nouns = db['nouns']"
   ]
  },
  {
   "cell_type": "markdown",
   "metadata": {},
   "source": [
    "### Plotting distribution over time"
   ]
  },
  {
   "cell_type": "code",
   "execution_count": 16,
   "metadata": {
    "collapsed": true
   },
   "outputs": [],
   "source": [
    "def list_indicators():\n",
    "    d = col_inst.distinct(\"attributes.indicator\")\n",
    "    return [x for x in d]\n",
    "\n",
    "def compute_time_series(indicator):\n",
    "    \"\"\"\n",
    "    Convert the time stamp in the db into something that we can plot.\n",
    "    \"\"\"\n",
    "    c = col_inst.find({\"attributes.indicator\": indicator})\n",
    "    c = [x for x in c]\n",
    "    c_dates = [parser.parse(a['start']) for a in c]\n",
    "    c_dates = [mdates.date2num(b) for b in c_dates]\n",
    "    return c_dates"
   ]
  },
  {
   "cell_type": "code",
   "execution_count": 19,
   "metadata": {
    "collapsed": true
   },
   "outputs": [],
   "source": [
    "def plot_dist(s_dates):\n",
    "    \"\"\"\n",
    "    Plot a time series.\n",
    "    \"\"\"\n",
    "    locator = mdates.AutoDateLocator()\n",
    "    locator.intervald[mdates.DAILY] = [2]\n",
    "    formatter = mdates.AutoDateFormatter(locator)\n",
    "    fig, ax = plt.subplots()\n",
    "    ax.xaxis.set_major_locator(locator)\n",
    "    ax.xaxis.set_major_formatter(formatter=formatter)\n",
    "    ax = seaborn.distplot(s_dates, ax=ax)\n",
    "    seaborn.plt.show()\n",
    "    return (fig, ax)"
   ]
  },
  {
   "cell_type": "code",
   "execution_count": 7,
   "metadata": {
    "collapsed": false,
    "deletable": true,
    "editable": true
   },
   "outputs": [],
   "source": [
    "inds = list_indicators()"
   ]
  },
  {
   "cell_type": "code",
   "execution_count": 14,
   "metadata": {
    "collapsed": false
   },
   "outputs": [],
   "source": [
    "stux_dates = compute_time_series(\"Stuxnet\")"
   ]
  },
  {
   "cell_type": "code",
   "execution_count": 21,
   "metadata": {
    "collapsed": false,
    "deletable": true,
    "editable": true
   },
   "outputs": [
    {
     "data": {
      "image/png": "[encoded data removed]",
      "text/plain": [
       "<matplotlib.figure.Figure at 0x11306a470>"
      ]
     },
     "metadata": {},
     "output_type": "display_data"
    }
   ],
   "source": [
    "try:\n",
    "    plot_dist(stux_dates)\n",
    "except:\n",
    "    print(\"something's wrong\")"
   ]
  },
  {
   "cell_type": "code",
   "execution_count": 22,
   "metadata": {
    "collapsed": true
   },
   "outputs": [],
   "source": [
    "superfish_dates = compute_time_series(\"Superfish\")"
   ]
  },
  {
   "cell_type": "code",
   "execution_count": 23,
   "metadata": {
    "collapsed": false
   },
   "outputs": [
    {
     "data": {
      "image/png": "[encoded data removed]",
      "text/plain": [
       "<matplotlib.figure.Figure at 0x105abfb70>"
      ]
     },
     "metadata": {},
     "output_type": "display_data"
    }
   ],
   "source": [
    "try:\n",
    "    plot_dist(superfish_dates)\n",
    "except:\n",
    "    print(\"something's wrong\")"
   ]
  },
  {
   "cell_type": "markdown",
   "metadata": {
    "collapsed": true,
    "deletable": true,
    "editable": true
   },
   "source": [
    "### Ranking "
   ]
  },
  {
   "cell_type": "code",
   "execution_count": 31,
   "metadata": {
    "collapsed": false
   },
   "outputs": [],
   "source": [
    "def analyse_inds(indicators):\n",
    "    i = 0\n",
    "    for ind in indicators:\n",
    "        dates = compute_time_series(ind)\n",
    "        size = len(dates)\n",
    "        data = {\n",
    "            \"_id\": ind,\n",
    "            \"dates\": dates,\n",
    "            \"size\": size,\n",
    "        }\n",
    "        col_inds.insert_one(data)\n",
    "        i += 1\n",
    "        print(\"{}/{} Inserted {}\".format(i,len(indicators),ind))"
   ]
  },
  {
   "cell_type": "code",
   "execution_count": 32,
   "metadata": {
    "collapsed": false
   },
   "outputs": [
    {
     "name": "stdout",
     "output_type": "stream",
     "text": [
      "1/10 Inserted XcodeGhost\n",
      "2/10 Inserted Duqu 2.0 hits Kaspersky , Nominet\n",
      "3/10 Inserted 0day\n",
      "4/10 Inserted malware\n",
      "5/10 Inserted Yispecter\n",
      "6/10 Inserted Stuxnet attack was launched successfully on Iran\n",
      "7/10 Inserted FLAME\n",
      "8/10 Inserted Bladabindi\n",
      "9/10 Inserted Nuclear exploit kit\n",
      "10/10 Inserted Blackenergy attacks on industrial control systems\n"
     ]
    }
   ],
   "source": [
    "# Test with the first thirty indicators\n",
    "analyse_inds(inds[20:30])"
   ]
  },
  {
   "cell_type": "code",
   "execution_count": 116,
   "metadata": {
    "collapsed": false
   },
   "outputs": [],
   "source": [
    "def print_sorted(col, attr):\n",
    "    a = col.find({}).sort(attr, -1)\n",
    "    xs = []\n",
    "    ys = []\n",
    "    for ind in a:\n",
    "        print(\"{} | {}\".format(ind[attr], ind['_id']))\n",
    "        xs.append(ind['_id'])\n",
    "        ys.append(ind[attr])\n",
    "    return (xs, ys)\n",
    "def plot_ranking(data, limit = 10):\n",
    "    \"\"\"\n",
    "        Bar plot the data, but have some limit, \n",
    "        since if we plot all of it, we can't read the x-axis' label\n",
    "    \"\"\"\n",
    "    xs, ys = data\n",
    "    seaborn.barplot(x = xs[:limit], y = ys[:limit])\n",
    "    seaborn.plt.show()"
   ]
  },
  {
   "cell_type": "code",
   "execution_count": 117,
   "metadata": {
    "collapsed": false
   },
   "outputs": [
    {
     "name": "stdout",
     "output_type": "stream",
     "text": [
      "12326 | Stuxnet\n",
      "10929 | malware\n",
      "7511 | Superfish\n",
      "5707 | XcodeGhost\n",
      "5526 | Trojan\n",
      "3880 | Malware\n",
      "1714 | Regin malware\n",
      "1371 | Stuxnet - style campaign against North Korea\n",
      "1232 | Yispecter\n",
      "1138 | Angler Exploit Kit\n",
      "768 | Viper attack\n",
      "674 | hackers steal over 250,000 Apple\n",
      "395 | US launched failed Stuxnet attack\n",
      "204 | zig zag\n",
      "169 | 0day\n",
      "134 | Blackenergy attacks on industrial control systems\n",
      "103 | Stuxnet against North Korea\n",
      "94 | Nuclear exploit kit\n",
      "84 | Emotet Banking Malware targets German\n",
      "80 | Cryptowall\n",
      "77 | Ghost Push' Malware infects 600k Android\n",
      "73 | FLAME\n",
      "73 | Bladabindi\n",
      "6 | HTran\n",
      "3 | кибератака http\n",
      "2 | malware coined as \" SYNful Knock\" was discovered on Cisco\n",
      "2 | Neutrino EK on 46.108.156.181\n",
      "2 | Stuxnet attack was launched successfully on Iran\n",
      "1 | Deathring ] Chinese Malware found pre - installed on several smartphones\n",
      "1 | Duqu 2.0 hits Kaspersky , Nominet\n"
     ]
    },
    {
     "data": {
      "image/png": "[encoded data removed]",
      "text/plain": [
       "<matplotlib.figure.Figure at 0x10d7f9ef0>"
      ]
     },
     "metadata": {},
     "output_type": "display_data"
    }
   ],
   "source": [
    "plot_ranking(print_sorted(col_inds, \"size\"))"
   ]
  },
  {
   "cell_type": "markdown",
   "metadata": {},
   "source": [
    "### A little word association"
   ]
  },
  {
   "cell_type": "code",
   "execution_count": 47,
   "metadata": {
    "collapsed": true
   },
   "outputs": [],
   "source": [
    "from nltk.tag import pos_tag"
   ]
  },
  {
   "cell_type": "code",
   "execution_count": 48,
   "metadata": {
    "collapsed": true
   },
   "outputs": [],
   "source": [
    "def find_nouns(sentence):\n",
    "    words = sentence.split()\n",
    "    tagged = pos_tag(words)\n",
    "    return [w for w, t in tagged if t == 'NNP']"
   ]
  },
  {
   "cell_type": "code",
   "execution_count": 54,
   "metadata": {
    "collapsed": false
   },
   "outputs": [
    {
     "data": {
      "text/plain": [
       "['McDonald,', 'Superfish', 'Stuxnet']"
      ]
     },
     "execution_count": 54,
     "metadata": {},
     "output_type": "execute_result"
    }
   ],
   "source": [
    "# Test:\n",
    "find_nouns(\"I love McDonald, and also the hammer. Superfish is a good friend of Stuxnet\")"
   ]
  },
  {
   "cell_type": "code",
   "execution_count": 109,
   "metadata": {
    "collapsed": false
   },
   "outputs": [],
   "source": [
    "# We go through the sentences in the dataset. \n",
    "# Using the indicator as the id, we find all of the words associated with it.\n",
    "# Let's test on a small one, try \"Regin malware\"\n",
    "\n",
    "def other_nouns(indicator):\n",
    "    c = col_inst.find({\"attributes.indicator\": indicator})\n",
    "    c = [a for a in c] # I think this could be optimize for memory usage\n",
    "    noun_count = {}\n",
    "    for item in c:\n",
    "        s = item['item_fragment']\n",
    "        nouns = find_nouns(s)\n",
    "        for noun in nouns:\n",
    "            try:\n",
    "                noun_count[noun].append(item['id'])\n",
    "            except KeyError:\n",
    "                noun_count[noun] = [item['id']]\n",
    "        #print(\"Added {}\".format(s))\n",
    "    r = {}\n",
    "    for k, v in noun_count.items():\n",
    "        r[k] = {\n",
    "            \"ids\": v,\n",
    "            \"size\": len(v),\n",
    "        }\n",
    "    noun_count = sanitize(r)\n",
    "    col_nouns.insert_one({\"_id\": indicator, \"associated_nouns\": noun_count})\n",
    "    return noun_count\n",
    "\n",
    "def sanitize(d):\n",
    "    r = {}\n",
    "    for k, v in d.items():\n",
    "        try:\n",
    "            k.index(\".\")\n",
    "        except ValueError:\n",
    "            r[k] = v\n",
    "        else:\n",
    "            nk = k.replace(\".\", \"\")\n",
    "            r[nk] = v\n",
    "    return r\n",
    "\n",
    "def associated_nouns(indicator):\n",
    "    noun_dict = other_nouns(indicator)\n",
    "    ranking = sorted([(k, v['size']) for k, v in regin.items()], key= lambda x: x[1])[::-1]\n",
    "    for n,s in ranking:\n",
    "        print(\"{} | {}\".format(s, n))\n",
    "    return ranking\n",
    "        \n",
    "def plot_associated_nouns(ranks):\n",
    "    \"\"\"\n",
    "        Bar plot for the ranking table of nouns. \n",
    "        However, this is worthless since all of the label runs together if you tried with the whole table.\n",
    "    \"\"\"\n",
    "    seaborn.barplot(x = [i[0] for i in ranks], y = [i[1] for i in ranks])\n",
    "    seaborn.plt.show()"
   ]
  },
  {
   "cell_type": "code",
   "execution_count": 110,
   "metadata": {
    "collapsed": false
   },
   "outputs": [
    {
     "data": {
      "image/png": "[encoded data removed]",
      "text/plain": [
       "<matplotlib.figure.Figure at 0x10deccda0>"
      ]
     },
     "metadata": {},
     "output_type": "display_data"
    }
   ],
   "source": [
    "# Much better if you only look at a limited set\n",
    "plot_associated_nouns(ranking[:10])"
   ]
  },
  {
   "cell_type": "code",
   "execution_count": null,
   "metadata": {
    "collapsed": true
   },
   "outputs": [],
   "source": []
  }
 ],
 "metadata": {
  "kernelspec": {
   "display_name": "Python 3",
   "language": "python",
   "name": "python3"
  },
  "language_info": {
   "codemirror_mode": {
    "name": "ipython",
    "version": 3
   },
   "file_extension": ".py",
   "mimetype": "text/x-python",
   "name": "python",
   "nbconvert_exporter": "python",
   "pygments_lexer": "ipython3",
   "version": "3.6.0"
  }
 },
 "nbformat": 4,
 "nbformat_minor": 2
}
